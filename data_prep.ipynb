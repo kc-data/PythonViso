{
 "cells": [
  {
   "cell_type": "code",
   "execution_count": 8,
   "metadata": {},
   "outputs": [],
   "source": [
    "import pandas as pd\n",
    "import numpy as np\n",
    "import pickle\n",
    "from networkx import generators as gr\n",
    "import networkx as nx\n",
    "from pandasql import sqldf\n"
   ]
  },
  {
   "cell_type": "code",
   "execution_count": 3,
   "metadata": {},
   "outputs": [],
   "source": [
    "role_list = {}\n",
    "def test2(x):\n",
    "    name = x['Name2'].unique()[0]\n",
    "    if name in role_list:\n",
    "        np.append(role_list[name],x['T2'].unique())\n",
    "        role_list[name] = np.unique(role_list[name])\n",
    "    else:\n",
    "        role_list[name] = x['T2'].unique()\n",
    "                               \n",
    "def test(x):\n",
    "        role_list[x['Name1'].unique()[0]] = x['T1'].unique()\n",
    "    \n",
    "def create_role_list(df):\n",
    "    df.groupby('Name1').apply(test)\n",
    "    df.groupby('Name2').apply(test2)"
   ]
  },
  {
   "cell_type": "code",
   "execution_count": 4,
   "metadata": {},
   "outputs": [],
   "source": [
    "def add_centrality(G):\n",
    "    \n",
    "    Dict = nx.algorithms.centrality.degree_centrality(G)\n",
    "    Min = min(Dict.values())\n",
    "    Max = max(Dict.values())\n",
    "    rmin,rmax = 20,40\n",
    "\n",
    "    for u  in G.nodes():\n",
    "        percent = (Dict[u] - Min) / (Max - Min)\n",
    "        G.nodes[u]['centrality'] = percent * (rmax - rmin) + rmin  \n",
    "    "
   ]
  },
  {
   "cell_type": "code",
   "execution_count": 5,
   "metadata": {},
   "outputs": [],
   "source": [
    "def add_roles(G,role_list):\n",
    "    for name,role in role_list.items():\n",
    "        G.nodes[name]['Role'] = role"
   ]
  },
  {
   "cell_type": "code",
   "execution_count": 45,
   "metadata": {},
   "outputs": [],
   "source": [
    "def update_graph_obj():\n",
    "    \n",
    "    df = pd.read_csv('UPDATED_SNA_data.csv',encoding = \"ISO-8859-1\",dtype={'IncidentNumber':object})\n",
    "    df['InvolvementType'] = df['InvolvementType'].str.upper()\n",
    "    df['InvolvementType']=df['InvolvementType'].map({'SUSPECT':0,'VICTIM':1,'WITNESS/OTHER':2})\n",
    "    df['FullName'] = df['FullName'].str.strip()\n",
    "    q = \"SELECT distinct d1.Identifier,d1.FullName as Name1,d2.FullName as Name2,d1.InvolvementType as T1,d2.InvolvementType as T2 FROM df d1, df d2 WHERE d1.Identifier = d2.Identifier and d1.FullName > d2.FullName;\"\n",
    "    q2 = 'SELECT d1.Identifier from ndf d1 group by d1.Identifier having count(*) <= 190;'\n",
    "    ndf = sqldf(q, locals())\n",
    "    df2 = sqldf(q2, locals())\n",
    "    df3 = ndf.join(df2.set_index('Identifier'),how='inner', on = \"Identifier\", lsuffix = \"_df2\",rsuffix = '_ndf')\n",
    "    \n",
    "    global role_list\n",
    "    role_list = {}\n",
    "    print('Adding Roles..')\n",
    "    create_role_list(df3)\n",
    "    #df = drop_roles(role, df, central_name)\n",
    "    names = np.concatenate((df3.Name1.values,df3.Name2.values))\n",
    "    names = sorted(list(set(names)))\n",
    "    G = nx.from_pandas_edgelist(df3, 'Name1', 'Name2', True)\n",
    "    add_roles(G,role_list)\n",
    "    add_centrality(G)\n",
    "    print('Saving to disk..')\n",
    "    pickle.dump(G, open( \"net.dat\", \"wb\" ))\n",
    "    pickle.dump(names, open( \"names.dat\", \"wb\" ))\n",
    "    print('Done')\n",
    "    return G\n",
    "\n"
   ]
  },
  {
   "cell_type": "code",
   "execution_count": 46,
   "metadata": {},
   "outputs": [
    {
     "name": "stdout",
     "output_type": "stream",
     "text": [
      "Adding Roles..\n",
      "Saving to disk..\n",
      "Done\n"
     ]
    }
   ],
   "source": [
    "G = update_graph_obj()"
   ]
  }
 ],
 "metadata": {
  "kernelspec": {
   "display_name": "Python 3",
   "language": "python",
   "name": "python3"
  },
  "language_info": {
   "codemirror_mode": {
    "name": "ipython",
    "version": 3
   },
   "file_extension": ".py",
   "mimetype": "text/x-python",
   "name": "python",
   "nbconvert_exporter": "python",
   "pygments_lexer": "ipython3",
   "version": "3.6.3"
  }
 },
 "nbformat": 4,
 "nbformat_minor": 2
}
